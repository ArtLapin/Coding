{
 "cells": [
  {
   "cell_type": "code",
   "execution_count": 212,
   "metadata": {},
   "outputs": [
    {
     "name": "stdout",
     "output_type": "stream",
     "text": [
      "<Response [200]>\n"
     ]
    }
   ],
   "source": [
    "import requests\n",
    "from bs4 import BeautifulSoup\n",
    "import time\n",
    "import csv\n",
    "import re\n",
    "import pandas as pd\n",
    "\n",
    "# 더 퍼스트 슬램덩크 네티즌 평점 리스트\n",
    "url = \"https://movie.naver.com/movie/point/af/list.naver?st=mcode&sword=223800&target=after\"\n",
    "\n",
    "# requests.get\n",
    "resp = requests.get(url)\n",
    "print(resp)\n",
    "\n",
    "\n",
    "# HTTP 요청이 성공했음을 나타내는 서버측 성공 응답 상태 코드 = Response 200"
   ]
  },
  {
   "cell_type": "code",
   "execution_count": 149,
   "metadata": {},
   "outputs": [
    {
     "data": {
      "text/plain": [
       "'\\t\\r\\n\\t\\t\\t\\r\\n\\t\\t\\t\\r\\n\\t\\t\\t\\r\\n\\t\\t\\t\\r\\n\\t\\t\\r\\n\\t\\r\\n\\t\\r\\n\\t\\t\\r\\n\\t\\r\\n\\r\\n<!DOCTYPE html>\\r\\n<html lang=\"ko\">\\r\\n<head>\\r\\n<meta http-equiv=\"Content-Type\" content=\"text/html; charset=UTF-8\">\\r\\n<meta http-equiv=\"X-UA-Compatible\" content=\"IE=edge\">\\r\\n\\r\\n\\r\\n\\r\\n\\r\\n\\r\\n\\r\\n<meta property=\"me2:image\" content=\"http://imgmovie.naver.com/today/naverme/naverme_profile.jpg\"/>\\r\\n<meta property=\"me2:post_tag\"'"
      ]
     },
     "execution_count": 149,
     "metadata": {},
     "output_type": "execute_result"
    }
   ],
   "source": [
    "# 서버 응답 중에서 소스코드 부분을 출력\n",
    "resp.text[150:500]"
   ]
  },
  {
   "cell_type": "code",
   "execution_count": 150,
   "metadata": {},
   "outputs": [
    {
     "name": "stdout",
     "output_type": "stream",
     "text": [
      "<class 'bs4.BeautifulSoup'>\n"
     ]
    }
   ],
   "source": [
    "# BeautifulSoup 함수로, HTML 문서 구조를 파싱 \n",
    "soup = BeautifulSoup(resp.text, 'html.parser')\n",
    "\n",
    "# 파싱한 내용을 담고 있는 객체의 자료형 확인\n",
    "print(type(soup))"
   ]
  },
  {
   "cell_type": "code",
   "execution_count": 151,
   "metadata": {},
   "outputs": [
    {
     "name": "stdout",
     "output_type": "stream",
     "text": [
      "<title>네티즌 평점 : 네이버 영화</title>\n",
      "네티즌 평점 : 네이버 영화\n"
     ]
    }
   ],
   "source": [
    "# title 태그 이름을 활용하여 영화 제목이 포함되어 있는 요소를 찾습니다.\n",
    "title_tag = soup.find(name='title')\n",
    "print(title_tag)\n",
    "\n",
    "# 텍스트 부분만 추출합니다.\n",
    "title_text = title_tag.get_text()\n",
    "print(title_text)"
   ]
  },
  {
   "cell_type": "code",
   "execution_count": 152,
   "metadata": {},
   "outputs": [
    {
     "name": "stdout",
     "output_type": "stream",
     "text": [
      "div 태그:  <div class=\"h5_right_txt\">총 <strong class=\"c_88 fs_11\">13026</strong>개의 평점이 있습니다.</div>\n",
      "strong 태그:  <strong class=\"c_88 fs_11\">13026</strong>\n",
      "텍스트:  13026\n"
     ]
    }
   ],
   "source": [
    "# span 태그의 class 속성값을 활용하여 리뷰 갯수가 포함되어 있는 요소를 찾습니다.\n",
    "count_tag = soup.find(name='div', attrs={'class':'h5_right_txt'})\n",
    "print(\"div 태그: \", count_tag)\n",
    "\n",
    "# count_tag 요소에서 em 태그 부분을 찾습니다. \n",
    "count_tag = count_tag.find(name='strong')\n",
    "print(\"strong 태그: \", count_tag)\n",
    "\n",
    "# 텍스트 부분만 추출합니다.\n",
    "count_text = count_tag.get_text()\n",
    "print(\"텍스트: \", count_text)"
   ]
  },
  {
   "cell_type": "code",
   "execution_count": 153,
   "metadata": {},
   "outputs": [
    {
     "name": "stdout",
     "output_type": "stream",
     "text": [
      "tr 태그의 수:  10\n",
      "\n",
      "\n",
      "<tr>\n",
      "<td class=\"ac num\">18732834</td>\n",
      "<td class=\"title\">\n",
      "<a class=\"movie color_b\" href=\"/movie/bi/mi/basic.naver?code=223800\">더 퍼스트 슬램덩크</a>\n",
      "<div class=\"list_netizen_score\">\n",
      "<span class=\"st_off\"><span class=\"st_on\" style=\"width:100%\">별점 - 총 10점 중</span></span><em>10</em>\n",
      "</div>\n",
      "<br/>눈물은 안나는데 뭉클하고 가슴뛰더라 \n",
      "\t\t\t\n",
      "\t\t\t\n",
      "\t\t\t\n",
      "\t\t\t\t\n",
      "\t\t\t\t\n",
      "\t\t\t\t\n",
      "\t\t\t\t<a class=\"report\" href=\"#\" onclick=\"report('wwoe****', '2SXAp85kW7IxTnlO5bMXEXL2sY/UYW8t9CfmGOGxxFg=', '눈물은 안나는데 뭉클하고 가슴뛰더라', '18732834', 'point_after');\" style=\"color:#8F8F8F\" title=\"새 창\">신고</a>\n",
      "</td>\n",
      "<td class=\"num\"><a class=\"author\" href=\"javascript:find_list('nickname','18732834');\">wwoe****</a><br/>23.02.06</td>\n",
      "</tr>\n"
     ]
    }
   ],
   "source": [
    "review_list_tag = soup.find(name='tbody')\n",
    "\n",
    "# review_list_tag 요소에 포함된 tr 태그를 모두 찾습니다. \n",
    "review_list_tags = review_list_tag.find_all(name='tr')\n",
    "print(\"tr 태그의 수: \", len(review_list_tags))\n",
    "print(\"\\n\")\n",
    "\n",
    "# 첫 번째 원소를 출력합니다. \n",
    "print(review_list_tags[0])"
   ]
  },
  {
   "cell_type": "code",
   "execution_count": 202,
   "metadata": {},
   "outputs": [
    {
     "name": "stdout",
     "output_type": "stream",
     "text": [
      "제목: 더 퍼스트 슬램덩크 \n",
      "\n",
      "내용: 눈물은 안나는데 뭉클하고 가슴뛰더라 \n",
      "\n",
      "사용자: wwoe**** \n",
      "\n",
      "평점: 10 \n",
      "\n",
      "작성일자: 23.02.06 \n",
      "\n"
     ]
    }
   ],
   "source": [
    "# 첫 번째 아이템에서 리뷰 제목(rli.title), 사용자(rli.uid), 내용(rli.content) 데이터를 추출합니다.\n",
    "\n",
    "review_title = review_list_tags[0].find_all('a')[0].get_text()\n",
    "print(\"제목:\", review_title, \"\\n\")\n",
    "\n",
    "review_content = review_list_tags[0].find(\"a\",{\"class\":\"report\"}).get(\"onclick\").split(\"', '\")[2]  # find_all(x) find(o)\n",
    "print(r\"내용:\", review_content, \"\\n\")\n",
    "\n",
    "review_uid = review_list_tags[0].find_all('a')[2].get_text()\n",
    "print(r\"사용자:\", review_uid, \"\\n\")\n",
    "\n",
    "review_score = review_list_tags[0].find('em').get_text()\n",
    "print(r\"평점:\", review_score, \"\\n\")\n",
    "\n",
    "review_time = review_list_tags[0].find_all(\"td\",{\"class\":\"num\"})[1].get_text()\n",
    "review_time = review_time[-8:]\n",
    "print(r\"작성일자:\", review_time, \"\\n\")"
   ]
  },
  {
   "cell_type": "code",
   "execution_count": 203,
   "metadata": {},
   "outputs": [
    {
     "data": {
      "text/plain": [
       "'18732834'"
      ]
     },
     "execution_count": 203,
     "metadata": {},
     "output_type": "execute_result"
    }
   ],
   "source": [
    "# 각 리뷰 페이지로 연결할 nid 값을 포함하는 Javascript 코드를 추출합니다.\n",
    "\n",
    "review_nid = review_list_tags[0].find(\"a\",{\"class\":\"report\"}).get(\"onclick\").split(\"', '\")[3]  # find_all(x) find(o)\n",
    "\n",
    "review_nid"
   ]
  },
  {
   "cell_type": "code",
   "execution_count": 214,
   "metadata": {},
   "outputs": [],
   "source": [
    "need_reviews_cnt = 1000\n",
    "reviews = []\n",
    "review_data=[]\n",
    "\n",
    "#page를 1부터 1씩 증가하며 URL을 다음 페이지로 바꿈 \n",
    "for page in range(1,100):\n",
    "    url = f'https://movie.naver.com/movie/point/af/list.naver?st=mcode&sword=223800&target=after&page={page}'\n",
    "    #get : request로 url의  html문서의 내용 요청\n",
    "    html = requests.get(url)\n",
    "    #html을 받아온 문서를 .content로 지정 후 soup객체로 변환\n",
    "    soup = BeautifulSoup(html.content,'html.parser')\n",
    "    #find_all : 지정한 태그의 내용을 모두 찾아 리스트로 반환\n",
    "    reviews = soup.find_all(\"td\",{\"class\":\"title\"})\n",
    "    \n",
    "    #한 페이지의 리뷰 리스트의 리뷰를 하나씩 보면서 데이터 추출\n",
    "    for review in reviews:\n",
    "        sentence = review.find(\"a\",{\"class\":\"report\"}).get(\"onclick\").split(\"', '\")[2]\n",
    "        #만약 리뷰 내용이 비어있다면 데이터를 사용하지 않음\n",
    "        if sentence != \"\":\n",
    "            movie = review.find(\"a\",{\"class\":\"movie color_b\"}).get_text()\n",
    "            score = review.find(\"em\").get_text()\n",
    "            review_data.append([movie,sentence,int(score)])\n",
    "            need_reviews_cnt-= 1\n",
    "    #현재까지 수집된 리뷰가 목표 수집 리뷰보다 많아진 경우 크롤링 중지        \n",
    "    if need_reviews_cnt < 0:                                         \n",
    "        break"
   ]
  },
  {
   "cell_type": "code",
   "execution_count": 217,
   "metadata": {},
   "outputs": [
    {
     "data": {
      "text/html": [
       "<div>\n",
       "<style scoped>\n",
       "    .dataframe tbody tr th:only-of-type {\n",
       "        vertical-align: middle;\n",
       "    }\n",
       "\n",
       "    .dataframe tbody tr th {\n",
       "        vertical-align: top;\n",
       "    }\n",
       "\n",
       "    .dataframe thead th {\n",
       "        text-align: right;\n",
       "    }\n",
       "</style>\n",
       "<table border=\"1\" class=\"dataframe\">\n",
       "  <thead>\n",
       "    <tr style=\"text-align: right;\">\n",
       "      <th></th>\n",
       "      <th>title</th>\n",
       "      <th>score</th>\n",
       "      <th>review</th>\n",
       "    </tr>\n",
       "  </thead>\n",
       "  <tbody>\n",
       "    <tr>\n",
       "      <th>0</th>\n",
       "      <td>더 퍼스트 슬램덩크</td>\n",
       "      <td>10</td>\n",
       "      <td>[더 퍼스트 슬램덩크, 보면서 계속 심장뛰는 영화, 10]</td>\n",
       "    </tr>\n",
       "    <tr>\n",
       "      <th>1</th>\n",
       "      <td>더 퍼스트 슬램덩크</td>\n",
       "      <td>10</td>\n",
       "      <td>[더 퍼스트 슬램덩크, 미친 영화….. 너무 감동 ㅎㅎ, 10]</td>\n",
       "    </tr>\n",
       "    <tr>\n",
       "      <th>2</th>\n",
       "      <td>더 퍼스트 슬램덩크</td>\n",
       "      <td>10</td>\n",
       "      <td>[더 퍼스트 슬램덩크, 관객들이 몰입할 준비를 하고 왔다는게 너무 놀랐어요. 솔솔솔...</td>\n",
       "    </tr>\n",
       "    <tr>\n",
       "      <th>3</th>\n",
       "      <td>더 퍼스트 슬램덩크</td>\n",
       "      <td>10</td>\n",
       "      <td>[더 퍼스트 슬램덩크, 그냥 미쳣음 피가 끓는영화, 10]</td>\n",
       "    </tr>\n",
       "    <tr>\n",
       "      <th>4</th>\n",
       "      <td>더 퍼스트 슬램덩크</td>\n",
       "      <td>10</td>\n",
       "      <td>[더 퍼스트 슬램덩크, 작화, OST 모두 뛰어남, 10]</td>\n",
       "    </tr>\n",
       "    <tr>\n",
       "      <th>...</th>\n",
       "      <td>...</td>\n",
       "      <td>...</td>\n",
       "      <td>...</td>\n",
       "    </tr>\n",
       "    <tr>\n",
       "      <th>917</th>\n",
       "      <td>더 퍼스트 슬램덩크</td>\n",
       "      <td>10</td>\n",
       "      <td>[더 퍼스트 슬램덩크, 저는 일본스타일보다는 한국스타일 슬램덩크 만화를 더 좋아해서...</td>\n",
       "    </tr>\n",
       "    <tr>\n",
       "      <th>918</th>\n",
       "      <td>더 퍼스트 슬램덩크</td>\n",
       "      <td>10</td>\n",
       "      <td>[더 퍼스트 슬램덩크, 이번 더 퍼스트 슬램덩크는 송태섭의 스토리로 잘 시작하는 것...</td>\n",
       "    </tr>\n",
       "    <tr>\n",
       "      <th>919</th>\n",
       "      <td>더 퍼스트 슬램덩크</td>\n",
       "      <td>10</td>\n",
       "      <td>[더 퍼스트 슬램덩크, 우리가 원하는 &amp;amp;#39;실사&amp;amp;#39;의 방향,...</td>\n",
       "    </tr>\n",
       "    <tr>\n",
       "      <th>920</th>\n",
       "      <td>더 퍼스트 슬램덩크</td>\n",
       "      <td>10</td>\n",
       "      <td>[더 퍼스트 슬램덩크, 더퍼슬 때문에 만화책을 구입해서 다시 읽어보았다.고등학생시절...</td>\n",
       "    </tr>\n",
       "    <tr>\n",
       "      <th>921</th>\n",
       "      <td>더 퍼스트 슬램덩크</td>\n",
       "      <td>10</td>\n",
       "      <td>[더 퍼스트 슬램덩크, 내가 예전에 만화 티비 비디오테잎 여러번 봤다 그러면 보세요...</td>\n",
       "    </tr>\n",
       "  </tbody>\n",
       "</table>\n",
       "<p>922 rows × 3 columns</p>\n",
       "</div>"
      ],
      "text/plain": [
       "          title score                                             review\n",
       "0    더 퍼스트 슬램덩크    10                   [더 퍼스트 슬램덩크, 보면서 계속 심장뛰는 영화, 10]\n",
       "1    더 퍼스트 슬램덩크    10                [더 퍼스트 슬램덩크, 미친 영화….. 너무 감동 ㅎㅎ, 10]\n",
       "2    더 퍼스트 슬램덩크    10  [더 퍼스트 슬램덩크, 관객들이 몰입할 준비를 하고 왔다는게 너무 놀랐어요. 솔솔솔...\n",
       "3    더 퍼스트 슬램덩크    10                   [더 퍼스트 슬램덩크, 그냥 미쳣음 피가 끓는영화, 10]\n",
       "4    더 퍼스트 슬램덩크    10                   [더 퍼스트 슬램덩크, 작화, OST 모두 뛰어남, 10]\n",
       "..          ...   ...                                                ...\n",
       "917  더 퍼스트 슬램덩크    10  [더 퍼스트 슬램덩크, 저는 일본스타일보다는 한국스타일 슬램덩크 만화를 더 좋아해서...\n",
       "918  더 퍼스트 슬램덩크    10  [더 퍼스트 슬램덩크, 이번 더 퍼스트 슬램덩크는 송태섭의 스토리로 잘 시작하는 것...\n",
       "919  더 퍼스트 슬램덩크    10  [더 퍼스트 슬램덩크, 우리가 원하는 &amp;#39;실사&amp;#39;의 방향,...\n",
       "920  더 퍼스트 슬램덩크    10  [더 퍼스트 슬램덩크, 더퍼슬 때문에 만화책을 구입해서 다시 읽어보았다.고등학생시절...\n",
       "921  더 퍼스트 슬램덩크    10  [더 퍼스트 슬램덩크, 내가 예전에 만화 티비 비디오테잎 여러번 봤다 그러면 보세요...\n",
       "\n",
       "[922 rows x 3 columns]"
      ]
     },
     "execution_count": 217,
     "metadata": {},
     "output_type": "execute_result"
    }
   ],
   "source": [
    "dict_data = {\n",
    "    'title' : movie,\n",
    "    'score' : score,\n",
    "    'review' : review_data  \n",
    "}\n",
    "\n",
    "df_data = pd.DataFrame(dict_data)\n",
    "\n",
    "# 변환 결과를 확인\n",
    "df_data"
   ]
  },
  {
   "cell_type": "code",
   "execution_count": 218,
   "metadata": {},
   "outputs": [],
   "source": [
    "df_data.to_csv(\"naver_review.csv\")"
   ]
  }
 ],
 "metadata": {
  "kernelspec": {
   "display_name": "Python 3",
   "language": "python",
   "name": "python3"
  },
  "language_info": {
   "codemirror_mode": {
    "name": "ipython",
    "version": 3
   },
   "file_extension": ".py",
   "mimetype": "text/x-python",
   "name": "python",
   "nbconvert_exporter": "python",
   "pygments_lexer": "ipython3",
   "version": "3.11.1"
  },
  "orig_nbformat": 4,
  "vscode": {
   "interpreter": {
    "hash": "1aa6b72d4319368d750a9ddc9cb44d3924fc5e24648a3794ae012b07ddba3f55"
   }
  }
 },
 "nbformat": 4,
 "nbformat_minor": 2
}
